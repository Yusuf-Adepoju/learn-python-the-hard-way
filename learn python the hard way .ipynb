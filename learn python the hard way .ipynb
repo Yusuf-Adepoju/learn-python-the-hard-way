{
 "cells": [
  {
   "cell_type": "markdown",
   "metadata": {},
   
  },
  {
   "cell_type": "markdown",
   "metadata": {},
   "source": [
    "Hello everyone, my name is yusuf  "
   ]
  },
  {
   "cell_type": "code",
   "execution_count": null,
   "metadata": {},
   "outputs": [],
   "source": [
    "## beginning of python "
   ]
  },
  {
   "cell_type": "code",
   "execution_count": 23,
   "metadata": {},
   "outputs": [
    {
     "name": "stdout",
     "output_type": "stream",
     "text": [
      "hello world\n",
      "hello everyone\n",
      "how are you doing\n",
      "my name is yusuf\n",
      "i like typing\n"
     ]
    }
   ],
   "source": [
    "## exercise 1\n",
    "\n",
    "print(\"hello world\")\n",
    "print(\"hello everyone\")\n",
    "print(\"how are you doing\")\n",
    "print(\"my name is yusuf\")\n",
    "print(\"i like typing\")\n",
    "\n",
    "# print is a function in python print the specified messange to the screen. like the exercise above, print(\"hello world\").\n",
    "# when you type print on your system it is a most to put brack so as to run. like this print().\n",
    "# note, if what you want to print is in alphabeth you most use an apostrophe e.g print(\"hello world\") "
   ]
  },
  {
   "cell_type": "code",
   "execution_count": 4,
   "metadata": {},
   "outputs": [
    {
     "name": "stdout",
     "output_type": "stream",
     "text": [
      "i want to comment on my code \n",
      "i like coding \n",
      "i want to run\n"
     ]
    }
   ],
   "source": [
    "## exercise 2\n",
    "# comments and pound character\n",
    "print(\"i want to comment on my code\")\n",
    "print(\"i like coding\")\n",
    "# print(\"i want to run\")\n",
    "\n",
    "# Comments are used to tell what something does and it is also used to disable part of your program if you need to remove them temporarily.\n",
    "# To comment on your program use # so as to disable or to comment out a piece of your code, like this # print(\"i want to run\") if you this code it won't run because you have comment it out "
   ]
  },
  {
   "cell_type": "code",
   "execution_count": 20,
   "metadata": {},
   "outputs": [
    {
     "name": "stdout",
     "output_type": "stream",
     "text": [
      "i will now count all my animals\n",
      "hen 11\n",
      "goat 97\n",
      "i will now count the eggs\n",
      "3.0\n",
      "is it true that 3 + 2 < 5 - 7?\n",
      "False\n",
      "what is 3 + 2? 5\n",
      "what is 10 - 4? 6\n",
      "is it greater? True\n",
      "is it greater than or equals? True\n",
      "is it less than or equal? False\n"
     ]
    }
   ],
   "source": [
    "## exercise 3\n",
    "print(\"i will now count all my animals\")\n",
    "print(\"hen\", 26 + 15 - 6 * 5)\n",
    "print(\"goat\", 100 - 25 * 3 % 4)\n",
    "print(\"i will now count the eggs\")\n",
    "print(3 + 2 + 1 - 5 + 4 % 2 - 1 + 6 / 2)\n",
    "print(\"is it true that 3 + 2 < 5 - 7?\")\n",
    "print(3 + 2 < 5 - 7)\n",
    "print(\"what is 3 + 2?\", 3 + 2)\n",
    "print(\"what is 10 - 4?\", 10 - 4)\n",
    "print(\"is it greater?\", 5 > -2)\n",
    "print(\"is it greater than or equals?\", 5 >= -2)\n",
    "print(\"is it less than or equal?\", 5 <= -2)\n",
    "\n",
    "# Number and Math\n",
    "# in this aspect we using math symbol e.g \n",
    "+ plus\n",
    "- minus\n",
    "* asterisk for multiplication\n",
    "% percent\n",
    "/ slash for division\n",
    "> greater than\n",
    "< less than\n",
    ">= greater than or equal to\n",
    "<= less than or equal to"
   ]
  },
  {
   "cell_type": "code",
   "execution_count": 1,
   "metadata": {},
   "outputs": [
    {
     "name": "stdout",
     "output_type": "stream",
     "text": [
      "yusuf\n",
      "adepoju\n",
      "the richest man in world is yusuf adepoju\n",
      "he was born in the year 2004\n",
      "he was 19 year old\n",
      "yusuf adepoju was born in oyo ibadan\n",
      "he attend ags in oyo ibadan\n",
      "his best food is amala and abula\n",
      "his favourite_colour is blue\n"
     ]
    }
   ],
   "source": [
    "## exercise 4\n",
    "first_name = \"yusuf\"\n",
    "last_name = \"adepoju\"\n",
    "birth_year = 2004\n",
    "age = 19\n",
    "state = \"oyo ibadan\"\n",
    "school = \"ags\"\n",
    "best_food = \"amala and abula\"\n",
    "favourite_colour = \"blue\"\n",
    "\n",
    "print(first_name)\n",
    "print(last_name)\n",
    "print(\"the richest man in world is\", first_name, last_name)\n",
    "print(\"he was born in the year\", birth_year)\n",
    "print(\"he was\", age, \"year old\")\n",
    "print(first_name,last_name,\"was born in\", state)\n",
    "print(\"he attend\", school,\"in\",state )\n",
    "print(\"his best food is\", best_food)\n",
    "print(\"his favourite_colour is\", favourite_colour)\n",
    "\n"
   ]
  },
  {
   "cell_type": "code",
   "execution_count": 2,
   "metadata": {},
   "outputs": [
    {
     "name": "stdout",
     "output_type": "stream",
     "text": [
      "the name of our company is ACC\n",
      "there are 100 car avilable in the company\n",
      "i bought a highlander car with 6 tyres last week\n",
      "the car have 20 seat and the colour was navy blue.\n",
      "the company has employed 10 drivers\n",
      "the drivers are to carry 200 passengers per day\n",
      "if i add 6, 20, 100, 10 and 200 i get 336.\n"
     ]
    }
   ],
   "source": [
    "# exercise 5\n",
    "company_name = \"ACC\"\n",
    "my_car = \"highlander\"\n",
    "colour = \"navy blue\"\n",
    "tyre = 6\n",
    "seat = 20\n",
    "cars = 100 \n",
    "drivers = 10\n",
    "passengers = 200\n",
    "\n",
    "print(\"the name of our company is %s\" % company_name)\n",
    "print(\"there are %d car avilable in the company\" % cars)\n",
    "print(\"i bought a %s car with %r tyres last week\" % (my_car, tyre))\n",
    "print(\"the car have %d seat and the colour was %s.\" % (seat, colour))\n",
    "print(\"the company has employed %d drivers\" % drivers)\n",
    "print(\"the drivers are to carry %d passengers per day\" % passengers)\n",
    "print(\"if i add %d, %d, %d, %d and %d i get %d.\" % (tyre, seat, cars, drivers, passengers, tyre + seat + cars + drivers + passengers))"
   ]
  },
  {
   "cell_type": "code",
   "execution_count": 3,
   "metadata": {},
   "outputs": [
    {
     "name": "stdout",
     "output_type": "stream",
     "text": [
      "there are 20 types of fruit.\n",
      "those who like fruit and those don't.\n",
      "i know: 'there are 20 types of fruit.'.\n",
      "he also know: 'those who like fruit and those don't.'.\n",
      "isn't that joke so funny?! 'true'\n",
      "this is the man, who stole the money.\n"
     ]
    }
   ],
   "source": [
    "# exercise 6\n",
    "A = \"there are %d types of fruit.\" % 20\n",
    "A\n",
    "like = \"like\"\n",
    "do_not = \"don't\"\n",
    "B = \"those who %s fruit and those %s.\" % (like, do_not)\n",
    "B\n",
    "print(A)\n",
    "print(B)\n",
    "\n",
    "print(\"i know: %r.\" % A)\n",
    "print(\"he also know: '%s'.\" % B)\n",
    "hilarious = \"true\"\n",
    "joke_eventuation = \"isn't that joke so funny?! %r\"\n",
    "print(joke_eventuation % hilarious)\n",
    "\n",
    "B = \"this is the man,\"\n",
    "Y = \" who stole the money.\"\n",
    "print(B+ Y)"
   ]
  },
  {
   "cell_type": "code",
   "execution_count": 4,
   "metadata": {},
   "outputs": [
    {
     "name": "stdout",
     "output_type": "stream",
     "text": [
      "Today is friday.\n",
      "Everybody happy lalalalala.\n",
      "no school tomorrow\n",
      "..........\n",
      "Global\n",
      "tech\n",
      "Globaltech\n"
     ]
    }
   ],
   "source": [
    "## exercise 7\n",
    "print(\"Today is friday.\")\n",
    "print(\"Everybody happy %s.\" % 'lalalalala')\n",
    "print(\"no school tomorrow\")\n",
    "print(\".\" * 10) \n",
    "end1 = \"G\"\n",
    "end2 = \"l\"\n",
    "end3 = \"o\"\n",
    "end4 = \"b\"\n",
    "end5 = \"a\"\n",
    "end6 = \"l\"\n",
    "end7 = \"t\"\n",
    "end8 = \"e\"\n",
    "end9 = \"c\"\n",
    "end10 = \"h\"\n",
    "print (end1 + end2 + end3 + end4 + end5 + end6) \n",
    "print (end7 + end8 + end9 + end10)\n",
    "print (end1 + end2 + end3 + end4 + end5 + end6 + end7 + end8 + end9 + end10)"
   ]
  },
  {
   "cell_type": "code",
   "execution_count": 5,
   "metadata": {},
   "outputs": [
    {
     "name": "stdout",
     "output_type": "stream",
     "text": [
      "1 2 3 4\n",
      "'one' 'two' 'three' 'four'\n",
      "'ding' 'dong' 'ding' 'dong'\n",
      "'%r %r %r %r' '%r %r %r %r' '%r %r %r %r' '%r %r %r %r'\n",
      "'Allah is one' 'he is never two' 'he is never three' 'neither nor never four.'\n"
     ]
    }
   ],
   "source": [
    "## exercise 8\n",
    "formatter = \"%r %r %r %r\"\n",
    "print(formatter % (1, 2, 3, 4))\n",
    "print(formatter % (\"one\", \"two\", \"three\", \"four\"))\n",
    "print(formatter % (\"ding\", \"dong\", \"ding\", \"dong\"))\n",
    "print(formatter % (formatter, formatter, formatter, formatter))\n",
    "print(formatter % (\"Allah is one\", \"he is never two\", \"he is never three\", \"neither nor never four.\"))"
   ]
  },
  {
   "cell_type": "code",
   "execution_count": 6,
   "metadata": {},
   "outputs": [
    {
     "name": "stdout",
     "output_type": "stream",
     "text": [
      "there 7 days in a week: sun mon tue wed thur fri sat\n",
      "the 12 months of the year: Jan\n",
      "Feb\n",
      "Mar\n",
      "April\n",
      "May\n",
      "June\n",
      "july\n",
      "Aug\n",
      "Sep\n",
      "Oct\n",
      "Nov\n",
      "Dec\n",
      "\n",
      "Mary has a little lamb. \n",
      "its fleece was white as snow. \n",
      "And everywhere that Mary went \n",
      "\n"
     ]
    }
   ],
   "source": [
    "##exercise 9\n",
    "days = \"sun mon tue wed thur fri sat\"\n",
    "months = \"Jan\\nFeb\\nMar\\nApril\\nMay\\nJune\\njuly\\nAug\\nSep\\nOct\\nNov\\nDec\"\n",
    "print(\"there 7 days in a week:\", days)\n",
    "print(\"the 12 months of the year:\", months)\n",
    "song = \"\"\"\n",
    "Mary has a little lamb. \n",
    "its fleece was white as snow. \n",
    "And everywhere that Mary went \n",
    "\"\"\"\n",
    "print(song)"
   ]
  },
  {
   "cell_type": "code",
   "execution_count": 7,
   "metadata": {},
   "outputs": [
    {
     "name": "stdout",
     "output_type": "stream",
     "text": [
      "I'll do list:\t* cat food\t* cat fish\t* dognip\n",
      "\t* grass\n",
      "\tI'm tabble in.\n",
      "I'm a dog\n",
      "not a lion\n",
      "you \\ a \\ cat\n"
     ]
    }
   ],
   "source": [
    "## exercise 10\n",
    "india_cat = \"\\tI'm tabble in.\"\n",
    "nigeria_dog = \"I'm a dog\\nnot a lion\"\n",
    "backslash_cat = \"you \\\\ a \\\\ cat\"\n",
    "\n",
    "fat_cat = \"\"\"I'll do list:\\t* cat food\\t* cat fish\\t* dognip\\n\\t* grass\"\"\"\n",
    "print(fat_cat)\n",
    "print(india_cat)\n",
    "print(nigeria_dog)\n",
    "print(backslash_cat)"
   ]
  },
  {
   "cell_type": "code",
   "execution_count": 3,
   "metadata": {
    "scrolled": true
   },
   "outputs": [
    {
     "name": "stdout",
     "output_type": "stream",
     "text": [
      "Yusuf \n",
      "what is your name? Yusuf \n",
      "19\n",
      "how old are you? 19\n",
      "6'2\n",
      "how tall are you? 6'2\n",
      "180lbs\n",
      "how much do you weight? 180lbs\n",
      "Yusuf \n",
      "19\n",
      "6'2\n",
      "180lbs\n",
      "so,your name is 'Yusuf ', and you're '19' old, \"6'2\" tall and '180lbs' heavy\n"
     ]
    }
   ],
   "source": [
    "### exercise 11\n",
    "print(\"what is your name?\", input())\n",
    "print(\"how old are you?\", input())\n",
    "print(\"how tall are you?\", input())  \n",
    "print(\"how much do you weight?\", input())\n",
    "\n",
    "print(\"so,your name is %r, and you're %r old, %r tall and %r heavy\" %(input(), input(), input(), input()))"
   ]
  },
  {
   "cell_type": "code",
   "execution_count": 5,
   "metadata": {},
   "outputs": [
    {
     "name": "stdout",
     "output_type": "stream",
     "text": [
      "what is your name? Yusuf \n",
      "how old are you? 19\n",
      "how tall are you? 6'2\n",
      "how much do you weight? 180lbs\n",
      "hello Yusuf \n",
      "so,your name is 'Yusuf ', and you're '19' old, \"6'2\" tall and '180lbs' heavy\n"
     ]
    }
   ],
   "source": [
    "### exercise 12\n",
    "name = input(\"what is your name? \")\n",
    "age = input(\"how old are you? \")\n",
    "height = input(\"how tall are you? \")\n",
    "weight = input(\"how much do you weight? \")\n",
    "\n",
    "print(\"hello \"+ name)\n",
    "\n",
    "print(\"so,your name is %r, and you're %r old, %r tall and %r heavy\" %(name, age, height, weight))"
   ]
  },
  {
   "cell_type": "code",
   "execution_count": 29,
   "metadata": {},
   "outputs": [
    {
     "name": "stdout",
     "output_type": "stream",
     "text": [
      "the script is called: ex13.py\n",
      "the first human being is: Adam\n",
      "my second favorite fruit is: orange\n",
      "the third fastest animal is: horse\n"
     ]
    }
   ],
   "source": [
    "### exercise 13\n",
    "from sys import argv\n",
    "script = \"ex13.py\"\n",
    "first =\"Adam\"\n",
    "second = \"orange\"\n",
    "third = \"horse\"\n",
    "\n",
    "argv = script, first, second, third\n",
    "\n",
    "print(\"the script is called:\", script)\n",
    "print(\"the first human being is:\", first)\n",
    "print(\"my second favorite fruit is:\", second)\n",
    "print(\"the third fastest animal is:\", third)"
   ]
  },
  {
   "cell_type": "code",
   "execution_count": null,
   "metadata": {},
   "outputs": [],
   "source": []
  },
  {
   "cell_type": "code",
   "execution_count": 12,
   "metadata": {},
   "outputs": [
    {
     "name": "stdout",
     "output_type": "stream",
     "text": [
      "how old are you? 40\n"
     ]
    }
   ],
   "source": [
    "## exercise 12\n",
    "age = 40\n",
    "print((\"how old are you?\"),age)\n",
    "\n"
   ]
  },
  {
   "cell_type": "code",
   "execution_count": null,
   "metadata": {},
   "outputs": [],
   "source": [
    "birth_year = 2004\n",
    "age = 2023 - birth_year\n",
    "print(age)"
   ]
  }
 ],
 "metadata": {
  "kernelspec": {
   "display_name": "Python 3 (ipykernel)",
   "language": "python",
   "name": "python3"
  },
  "language_info": {
   "codemirror_mode": {
    "name": "ipython",
    "version": 3
   },
   "file_extension": ".py",
   "mimetype": "text/x-python",
   "name": "python",
   "nbconvert_exporter": "python",
   "pygments_lexer": "ipython3",
   "version": "3.8.1"
  }
 },
 "nbformat": 4,
 "nbformat_minor": 4
}
